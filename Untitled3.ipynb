{
 "cells": [
  {
   "cell_type": "code",
   "execution_count": 3,
   "id": "114a41df",
   "metadata": {},
   "outputs": [],
   "source": [
    "import numpy as np\n",
    "import pandas as pd"
   ]
  },
  {
   "cell_type": "code",
   "execution_count": 13,
   "id": "0c715251",
   "metadata": {},
   "outputs": [
    {
     "name": "stdout",
     "output_type": "stream",
     "text": [
      "1 1 0\n"
     ]
    }
   ],
   "source": [
    "x=[0,0,1,1]\n",
    "y=[0,1,0,1]\n",
    "z=[0,1,1,1]\n",
    "\n",
    "\n",
    "def pred(W1,W2,X,Y,b):\n",
    "    result=W1*X+W2*Y+b\n",
    "    if(result>0):\n",
    "        return 1\n",
    "    return 0\n",
    "\n",
    "\n",
    "\n",
    "def main():\n",
    "    while(1):\n",
    "        w1=np.random.randint(-2,3)\n",
    "        w2=np.random.randint(-2,3)\n",
    "        b=np.random.randint(-2,3)\n",
    "        if((z[0]==pred(w1,w2,x[0],y[0],b))and(z[1]==pred(w1,w2,x[1],y[1],b))and(z[2]==pred(w1,w2,x[2],y[2],b))and(z[3]==pred(w1,w2,x[3],y[3],b))):\n",
    "            return {\"w1\":w1,\"w2\":w2,\"b\":b}\n",
    "\n",
    "\n",
    "result=main()\n",
    "print(result[\"w1\"],result[\"w2\"],result[\"b\"])    "
   ]
  },
  {
   "cell_type": "code",
   "execution_count": 24,
   "id": "30e749af",
   "metadata": {},
   "outputs": [
    {
     "data": {
      "text/plain": [
       "0.8807970779778823"
      ]
     },
     "execution_count": 24,
     "metadata": {},
     "output_type": "execute_result"
    }
   ],
   "source": [
    "x=[0,0,1,1]\n",
    "y=[0,1,0,1]\n",
    "z=[0,1,1,1]\n",
    "\n",
    "def iniparams():\n",
    "    w1=np.random.randint(-2,3)\n",
    "    w2=np.random.randint(-2,3)\n",
    "    b=np.random.randint(-2,3)\n",
    "    return {\"w1\":w1,\"w2\":w2,\"b\":b}\n",
    "\n",
    "\n",
    "def sigmoid(x):\n",
    "    return(1/(1+np.exp(-x)))\n",
    "\n",
    "def threshold(x):\n",
    "    if(x>0.5):\n",
    "        return 1\n",
    "    return 0\n",
    "\n",
    "\n",
    "def pred(W1,W2,X,Y,b):\n",
    "    result=W1*X+W2*Y+b\n",
    "    return threshold(sigmoid(result)) \n",
    "\n",
    "\n",
    "\n",
    "\n",
    "def err(w1,w2,b,X,Y,Z):\n",
    "    r1=sigmoid(w1*X[0]+w2*Y[0]+b)\n",
    "    r2=sigmoid(w1*X[1]+w2*Y[1]+b)\n",
    "    r3=sigmoid(w1*X[2]+w2*Y[2]+b)\n",
    "    r4=sigmoid(w1*X[3]+w2*Y[3]+b)\n",
    "    \n",
    "\n",
    "def main():\n",
    "    while(!((z[0]==pred(w1,w2,x[0],y[0],b))and(z[1]==pred(w1,w2,x[1],y[1],b))and(z[2]==pred(w1,w2,x[2],y[2],b))and(z[3]==pred(w1,w2,x[3],y[3],b)))):\n",
    "        \n",
    "        \n",
    "        \n",
    "        w1=w1-0.1*\n",
    "\n"
   ]
  },
  {
   "cell_type": "code",
   "execution_count": null,
   "id": "6df618a0",
   "metadata": {},
   "outputs": [],
   "source": []
  }
 ],
 "metadata": {
  "kernelspec": {
   "display_name": "Python 3 (ipykernel)",
   "language": "python",
   "name": "python3"
  },
  "language_info": {
   "codemirror_mode": {
    "name": "ipython",
    "version": 3
   },
   "file_extension": ".py",
   "mimetype": "text/x-python",
   "name": "python",
   "nbconvert_exporter": "python",
   "pygments_lexer": "ipython3",
   "version": "3.9.7"
  }
 },
 "nbformat": 4,
 "nbformat_minor": 5
}
