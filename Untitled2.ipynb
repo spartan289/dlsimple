{
 "cells": [
  {
   "cell_type": "code",
   "execution_count": 82,
   "id": "1bfb6b84",
   "metadata": {},
   "outputs": [],
   "source": [
    "import numpy as np"
   ]
  },
  {
   "cell_type": "code",
   "execution_count": 169,
   "id": "ce9b7a67",
   "metadata": {},
   "outputs": [],
   "source": [
    "#and operation\n",
    "\n",
    "w1 =np.random.randint(-1,2,1)[0]\n",
    "w2 =np.random.randint(-1,2,1)[0]\n",
    "b =np.random.randint(-1,2,1)[0]"
   ]
  },
  {
   "cell_type": "code",
   "execution_count": 170,
   "id": "1b6f6d45",
   "metadata": {},
   "outputs": [
    {
     "name": "stdout",
     "output_type": "stream",
     "text": [
      "0 1 1\n"
     ]
    }
   ],
   "source": [
    "print(w1,w2,b)\n",
    "def sg(p,q):\n",
    "    return 1/(1+np.exp(-(p*w1+q*w2+b)))\n",
    "def sgd(p,q):\n",
    "    z = p*w1+q*w2+b;\n",
    "    return z*(1-z)\n",
    "def sgdev(p,q):\n",
    "    return  -2*((p and q )- sg(p,q))*sgd(p,q)\n"
   ]
  },
  {
   "cell_type": "code",
   "execution_count": 171,
   "id": "d778b8bc",
   "metadata": {},
   "outputs": [
    {
     "ename": "NameError",
     "evalue": "name 'p' is not defined",
     "output_type": "error",
     "traceback": [
      "\u001b[1;31m---------------------------------------------------------------------------\u001b[0m",
      "\u001b[1;31mNameError\u001b[0m                                 Traceback (most recent call last)",
      "\u001b[1;32m~\\AppData\\Local\\Temp/ipykernel_5608/2399265958.py\u001b[0m in \u001b[0;36m<module>\u001b[1;34m\u001b[0m\n\u001b[0;32m      3\u001b[0m     \u001b[0mderivz\u001b[0m  \u001b[1;33m=\u001b[0m \u001b[0msgdev\u001b[0m\u001b[1;33m(\u001b[0m\u001b[1;36m0\u001b[0m\u001b[1;33m,\u001b[0m\u001b[1;36m0\u001b[0m\u001b[1;33m)\u001b[0m\u001b[1;33m+\u001b[0m\u001b[0msgdev\u001b[0m\u001b[1;33m(\u001b[0m\u001b[1;36m1\u001b[0m\u001b[1;33m,\u001b[0m\u001b[1;36m1\u001b[0m\u001b[1;33m)\u001b[0m\u001b[1;33m+\u001b[0m\u001b[0msgdev\u001b[0m\u001b[1;33m(\u001b[0m\u001b[1;36m1\u001b[0m\u001b[1;33m,\u001b[0m\u001b[1;36m0\u001b[0m\u001b[1;33m)\u001b[0m\u001b[1;33m+\u001b[0m\u001b[0msgdev\u001b[0m\u001b[1;33m(\u001b[0m\u001b[1;36m0\u001b[0m\u001b[1;33m,\u001b[0m\u001b[1;36m1\u001b[0m\u001b[1;33m)\u001b[0m\u001b[1;33m\u001b[0m\u001b[1;33m\u001b[0m\u001b[0m\n\u001b[0;32m      4\u001b[0m     \u001b[0mdelb\u001b[0m \u001b[1;33m=\u001b[0m \u001b[0mderivz\u001b[0m\u001b[1;33m\u001b[0m\u001b[1;33m\u001b[0m\u001b[0m\n\u001b[1;32m----> 5\u001b[1;33m     \u001b[0mdelw1\u001b[0m \u001b[1;33m=\u001b[0m\u001b[0mderivz\u001b[0m\u001b[1;33m*\u001b[0m\u001b[0mp\u001b[0m\u001b[1;33m\u001b[0m\u001b[1;33m\u001b[0m\u001b[0m\n\u001b[0m\u001b[0;32m      6\u001b[0m     \u001b[0mdelw2\u001b[0m \u001b[1;33m=\u001b[0m \u001b[0mderivz\u001b[0m\u001b[1;33m*\u001b[0m\u001b[0mq\u001b[0m\u001b[1;33m\u001b[0m\u001b[1;33m\u001b[0m\u001b[0m\n\u001b[0;32m      7\u001b[0m     \u001b[0mw1\u001b[0m \u001b[1;33m=\u001b[0m \u001b[0mw1\u001b[0m\u001b[1;33m-\u001b[0m\u001b[1;36m0.1\u001b[0m\u001b[1;33m*\u001b[0m\u001b[0mdelw1\u001b[0m\u001b[1;33m\u001b[0m\u001b[1;33m\u001b[0m\u001b[0m\n",
      "\u001b[1;31mNameError\u001b[0m: name 'p' is not defined"
     ]
    }
   ],
   "source": [
    "i=0;\n",
    "while i<100:\n",
    "    derivz  = sgdev(0,0)+sgdev(1,1)+sgdev(1,0)+sgdev(0,1)\n",
    "    delb = derivz\n",
    "    delw1 =derivz*p 0*sgdev(0,0)+1*sgdev(1,1)+sgdev(1,0)+sgdev(0,1)\n",
    "    delw2 = derivz*q\n",
    "    w1 = w1-0.1*delw1\n",
    "    w2 = w2-0.1*delw2\n",
    "    b= b-0.1*delw1   \n",
    "    i+=1\n",
    "print(w1,w2,b)"
   ]
  },
  {
   "cell_type": "code",
   "execution_count": 165,
   "id": "9c3a587e",
   "metadata": {},
   "outputs": [
    {
     "data": {
      "text/plain": [
       "0.9475272429999869"
      ]
     },
     "execution_count": 165,
     "metadata": {},
     "output_type": "execute_result"
    }
   ],
   "source": [
    "z= w1*1+w2*1+b\n",
    "z"
   ]
  },
  {
   "cell_type": "code",
   "execution_count": 166,
   "id": "a4eb61b1",
   "metadata": {},
   "outputs": [],
   "source": [
    "sg = 1/(1+np.exp(-z))"
   ]
  },
  {
   "cell_type": "code",
   "execution_count": 167,
   "id": "92ce87a4",
   "metadata": {},
   "outputs": [
    {
     "data": {
      "text/plain": [
       "0.7206176148189417"
      ]
     },
     "execution_count": 167,
     "metadata": {},
     "output_type": "execute_result"
    }
   ],
   "source": [
    "sg"
   ]
  },
  {
   "cell_type": "code",
   "execution_count": 168,
   "id": "f30266cc",
   "metadata": {},
   "outputs": [
    {
     "data": {
      "text/plain": [
       "20.085536923187668"
      ]
     },
     "execution_count": 168,
     "metadata": {},
     "output_type": "execute_result"
    }
   ],
   "source": [
    "np.exp(3)"
   ]
  },
  {
   "cell_type": "code",
   "execution_count": null,
   "id": "12c17afe",
   "metadata": {},
   "outputs": [],
   "source": []
  },
  {
   "cell_type": "code",
   "execution_count": null,
   "id": "85ea8195",
   "metadata": {},
   "outputs": [],
   "source": []
  }
 ],
 "metadata": {
  "kernelspec": {
   "display_name": "Python 3 (ipykernel)",
   "language": "python",
   "name": "python3"
  },
  "language_info": {
   "codemirror_mode": {
    "name": "ipython",
    "version": 3
   },
   "file_extension": ".py",
   "mimetype": "text/x-python",
   "name": "python",
   "nbconvert_exporter": "python",
   "pygments_lexer": "ipython3",
   "version": "3.9.7"
  }
 },
 "nbformat": 4,
 "nbformat_minor": 5
}
