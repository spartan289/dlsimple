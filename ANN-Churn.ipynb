{
 "cells": [
  {
   "cell_type": "code",
   "execution_count": 1,
   "metadata": {},
   "outputs": [],
   "source": [
    "import numpy as np\n",
    "import pandas as pd"
   ]
  },
  {
   "cell_type": "code",
   "execution_count": 2,
   "metadata": {},
   "outputs": [],
   "source": [
    "data = pd.read_csv(r\"C:\\Users\\ashuv\\Desktop\\csv\\Churn_Modelling.csv\")"
   ]
  },
  {
   "cell_type": "code",
   "execution_count": 3,
   "metadata": {},
   "outputs": [
    {
     "data": {
      "text/plain": [
       "RowNumber          0\n",
       "CustomerId         0\n",
       "Surname            0\n",
       "CreditScore        0\n",
       "Geography          0\n",
       "Gender             0\n",
       "Age                0\n",
       "Tenure             0\n",
       "Balance            0\n",
       "NumOfProducts      0\n",
       "HasCrCard          0\n",
       "IsActiveMember     0\n",
       "EstimatedSalary    0\n",
       "Exited             0\n",
       "dtype: int64"
      ]
     },
     "execution_count": 3,
     "metadata": {},
     "output_type": "execute_result"
    }
   ],
   "source": [
    "data.isna().sum()"
   ]
  },
  {
   "cell_type": "code",
   "execution_count": 4,
   "metadata": {},
   "outputs": [
    {
     "data": {
      "text/html": [
       "<div>\n",
       "<style scoped>\n",
       "    .dataframe tbody tr th:only-of-type {\n",
       "        vertical-align: middle;\n",
       "    }\n",
       "\n",
       "    .dataframe tbody tr th {\n",
       "        vertical-align: top;\n",
       "    }\n",
       "\n",
       "    .dataframe thead th {\n",
       "        text-align: right;\n",
       "    }\n",
       "</style>\n",
       "<table border=\"1\" class=\"dataframe\">\n",
       "  <thead>\n",
       "    <tr style=\"text-align: right;\">\n",
       "      <th></th>\n",
       "      <th>RowNumber</th>\n",
       "      <th>CustomerId</th>\n",
       "      <th>Surname</th>\n",
       "      <th>CreditScore</th>\n",
       "      <th>Geography</th>\n",
       "      <th>Gender</th>\n",
       "      <th>Age</th>\n",
       "      <th>Tenure</th>\n",
       "      <th>Balance</th>\n",
       "      <th>NumOfProducts</th>\n",
       "      <th>HasCrCard</th>\n",
       "      <th>IsActiveMember</th>\n",
       "      <th>EstimatedSalary</th>\n",
       "      <th>Exited</th>\n",
       "    </tr>\n",
       "  </thead>\n",
       "  <tbody>\n",
       "    <tr>\n",
       "      <th>0</th>\n",
       "      <td>1</td>\n",
       "      <td>15634602</td>\n",
       "      <td>Hargrave</td>\n",
       "      <td>619</td>\n",
       "      <td>France</td>\n",
       "      <td>Female</td>\n",
       "      <td>42</td>\n",
       "      <td>2</td>\n",
       "      <td>0.00</td>\n",
       "      <td>1</td>\n",
       "      <td>1</td>\n",
       "      <td>1</td>\n",
       "      <td>101348.88</td>\n",
       "      <td>1</td>\n",
       "    </tr>\n",
       "    <tr>\n",
       "      <th>1</th>\n",
       "      <td>2</td>\n",
       "      <td>15647311</td>\n",
       "      <td>Hill</td>\n",
       "      <td>608</td>\n",
       "      <td>Spain</td>\n",
       "      <td>Female</td>\n",
       "      <td>41</td>\n",
       "      <td>1</td>\n",
       "      <td>83807.86</td>\n",
       "      <td>1</td>\n",
       "      <td>0</td>\n",
       "      <td>1</td>\n",
       "      <td>112542.58</td>\n",
       "      <td>0</td>\n",
       "    </tr>\n",
       "    <tr>\n",
       "      <th>2</th>\n",
       "      <td>3</td>\n",
       "      <td>15619304</td>\n",
       "      <td>Onio</td>\n",
       "      <td>502</td>\n",
       "      <td>France</td>\n",
       "      <td>Female</td>\n",
       "      <td>42</td>\n",
       "      <td>8</td>\n",
       "      <td>159660.80</td>\n",
       "      <td>3</td>\n",
       "      <td>1</td>\n",
       "      <td>0</td>\n",
       "      <td>113931.57</td>\n",
       "      <td>1</td>\n",
       "    </tr>\n",
       "    <tr>\n",
       "      <th>3</th>\n",
       "      <td>4</td>\n",
       "      <td>15701354</td>\n",
       "      <td>Boni</td>\n",
       "      <td>699</td>\n",
       "      <td>France</td>\n",
       "      <td>Female</td>\n",
       "      <td>39</td>\n",
       "      <td>1</td>\n",
       "      <td>0.00</td>\n",
       "      <td>2</td>\n",
       "      <td>0</td>\n",
       "      <td>0</td>\n",
       "      <td>93826.63</td>\n",
       "      <td>0</td>\n",
       "    </tr>\n",
       "    <tr>\n",
       "      <th>4</th>\n",
       "      <td>5</td>\n",
       "      <td>15737888</td>\n",
       "      <td>Mitchell</td>\n",
       "      <td>850</td>\n",
       "      <td>Spain</td>\n",
       "      <td>Female</td>\n",
       "      <td>43</td>\n",
       "      <td>2</td>\n",
       "      <td>125510.82</td>\n",
       "      <td>1</td>\n",
       "      <td>1</td>\n",
       "      <td>1</td>\n",
       "      <td>79084.10</td>\n",
       "      <td>0</td>\n",
       "    </tr>\n",
       "    <tr>\n",
       "      <th>...</th>\n",
       "      <td>...</td>\n",
       "      <td>...</td>\n",
       "      <td>...</td>\n",
       "      <td>...</td>\n",
       "      <td>...</td>\n",
       "      <td>...</td>\n",
       "      <td>...</td>\n",
       "      <td>...</td>\n",
       "      <td>...</td>\n",
       "      <td>...</td>\n",
       "      <td>...</td>\n",
       "      <td>...</td>\n",
       "      <td>...</td>\n",
       "      <td>...</td>\n",
       "    </tr>\n",
       "    <tr>\n",
       "      <th>9995</th>\n",
       "      <td>9996</td>\n",
       "      <td>15606229</td>\n",
       "      <td>Obijiaku</td>\n",
       "      <td>771</td>\n",
       "      <td>France</td>\n",
       "      <td>Male</td>\n",
       "      <td>39</td>\n",
       "      <td>5</td>\n",
       "      <td>0.00</td>\n",
       "      <td>2</td>\n",
       "      <td>1</td>\n",
       "      <td>0</td>\n",
       "      <td>96270.64</td>\n",
       "      <td>0</td>\n",
       "    </tr>\n",
       "    <tr>\n",
       "      <th>9996</th>\n",
       "      <td>9997</td>\n",
       "      <td>15569892</td>\n",
       "      <td>Johnstone</td>\n",
       "      <td>516</td>\n",
       "      <td>France</td>\n",
       "      <td>Male</td>\n",
       "      <td>35</td>\n",
       "      <td>10</td>\n",
       "      <td>57369.61</td>\n",
       "      <td>1</td>\n",
       "      <td>1</td>\n",
       "      <td>1</td>\n",
       "      <td>101699.77</td>\n",
       "      <td>0</td>\n",
       "    </tr>\n",
       "    <tr>\n",
       "      <th>9997</th>\n",
       "      <td>9998</td>\n",
       "      <td>15584532</td>\n",
       "      <td>Liu</td>\n",
       "      <td>709</td>\n",
       "      <td>France</td>\n",
       "      <td>Female</td>\n",
       "      <td>36</td>\n",
       "      <td>7</td>\n",
       "      <td>0.00</td>\n",
       "      <td>1</td>\n",
       "      <td>0</td>\n",
       "      <td>1</td>\n",
       "      <td>42085.58</td>\n",
       "      <td>1</td>\n",
       "    </tr>\n",
       "    <tr>\n",
       "      <th>9998</th>\n",
       "      <td>9999</td>\n",
       "      <td>15682355</td>\n",
       "      <td>Sabbatini</td>\n",
       "      <td>772</td>\n",
       "      <td>Germany</td>\n",
       "      <td>Male</td>\n",
       "      <td>42</td>\n",
       "      <td>3</td>\n",
       "      <td>75075.31</td>\n",
       "      <td>2</td>\n",
       "      <td>1</td>\n",
       "      <td>0</td>\n",
       "      <td>92888.52</td>\n",
       "      <td>1</td>\n",
       "    </tr>\n",
       "    <tr>\n",
       "      <th>9999</th>\n",
       "      <td>10000</td>\n",
       "      <td>15628319</td>\n",
       "      <td>Walker</td>\n",
       "      <td>792</td>\n",
       "      <td>France</td>\n",
       "      <td>Female</td>\n",
       "      <td>28</td>\n",
       "      <td>4</td>\n",
       "      <td>130142.79</td>\n",
       "      <td>1</td>\n",
       "      <td>1</td>\n",
       "      <td>0</td>\n",
       "      <td>38190.78</td>\n",
       "      <td>0</td>\n",
       "    </tr>\n",
       "  </tbody>\n",
       "</table>\n",
       "<p>10000 rows × 14 columns</p>\n",
       "</div>"
      ],
      "text/plain": [
       "      RowNumber  CustomerId    Surname  CreditScore Geography  Gender  Age  \\\n",
       "0             1    15634602   Hargrave          619    France  Female   42   \n",
       "1             2    15647311       Hill          608     Spain  Female   41   \n",
       "2             3    15619304       Onio          502    France  Female   42   \n",
       "3             4    15701354       Boni          699    France  Female   39   \n",
       "4             5    15737888   Mitchell          850     Spain  Female   43   \n",
       "...         ...         ...        ...          ...       ...     ...  ...   \n",
       "9995       9996    15606229   Obijiaku          771    France    Male   39   \n",
       "9996       9997    15569892  Johnstone          516    France    Male   35   \n",
       "9997       9998    15584532        Liu          709    France  Female   36   \n",
       "9998       9999    15682355  Sabbatini          772   Germany    Male   42   \n",
       "9999      10000    15628319     Walker          792    France  Female   28   \n",
       "\n",
       "      Tenure    Balance  NumOfProducts  HasCrCard  IsActiveMember  \\\n",
       "0          2       0.00              1          1               1   \n",
       "1          1   83807.86              1          0               1   \n",
       "2          8  159660.80              3          1               0   \n",
       "3          1       0.00              2          0               0   \n",
       "4          2  125510.82              1          1               1   \n",
       "...      ...        ...            ...        ...             ...   \n",
       "9995       5       0.00              2          1               0   \n",
       "9996      10   57369.61              1          1               1   \n",
       "9997       7       0.00              1          0               1   \n",
       "9998       3   75075.31              2          1               0   \n",
       "9999       4  130142.79              1          1               0   \n",
       "\n",
       "      EstimatedSalary  Exited  \n",
       "0           101348.88       1  \n",
       "1           112542.58       0  \n",
       "2           113931.57       1  \n",
       "3            93826.63       0  \n",
       "4            79084.10       0  \n",
       "...               ...     ...  \n",
       "9995         96270.64       0  \n",
       "9996        101699.77       0  \n",
       "9997         42085.58       1  \n",
       "9998         92888.52       1  \n",
       "9999         38190.78       0  \n",
       "\n",
       "[10000 rows x 14 columns]"
      ]
     },
     "execution_count": 4,
     "metadata": {},
     "output_type": "execute_result"
    }
   ],
   "source": [
    "data"
   ]
  },
  {
   "cell_type": "code",
   "execution_count": 6,
   "metadata": {},
   "outputs": [],
   "source": [
    "#X = data.iloc[:,3:13].values"
   ]
  },
  {
   "cell_type": "code",
   "execution_count": 5,
   "metadata": {},
   "outputs": [],
   "source": [
    "X = data.drop(columns = [\"Exited\",'RowNumber','CustomerId','Surname'])"
   ]
  },
  {
   "cell_type": "code",
   "execution_count": 6,
   "metadata": {},
   "outputs": [],
   "source": [
    "X= pd.get_dummies(X, columns=['Geography','Gender'])"
   ]
  },
  {
   "cell_type": "code",
   "execution_count": 8,
   "metadata": {},
   "outputs": [],
   "source": [
    "y = data.iloc[:,13].values"
   ]
  },
  {
   "cell_type": "code",
   "execution_count": 7,
   "metadata": {},
   "outputs": [],
   "source": [
    "y = data[\"Exited\"]"
   ]
  },
  {
   "cell_type": "code",
   "execution_count": 8,
   "metadata": {},
   "outputs": [
    {
     "data": {
      "text/plain": [
       "(10000, 13)"
      ]
     },
     "execution_count": 8,
     "metadata": {},
     "output_type": "execute_result"
    }
   ],
   "source": [
    "X.shape"
   ]
  },
  {
   "cell_type": "code",
   "execution_count": 10,
   "metadata": {},
   "outputs": [],
   "source": [
    "from sklearn.model_selection import train_test_split\n",
    "\n",
    "X_train, X_test, y_train, y_test = train_test_split(X, y, test_size =0.2, random_state =4)"
   ]
  },
  {
   "cell_type": "code",
   "execution_count": 9,
   "metadata": {},
   "outputs": [],
   "source": [
    "from sklearn.preprocessing import StandardScaler\n",
    "sc = StandardScaler()\n",
    "X= sc.fit_transform(X)\n",
    "#X_test = sc.transform(X_test)"
   ]
  },
  {
   "cell_type": "code",
   "execution_count": 13,
   "metadata": {},
   "outputs": [],
   "source": [
    "import keras\n",
    "from keras.models import Sequential\n",
    "from keras.layers import Dense\n",
    "import tensorflow as tf"
   ]
  },
  {
   "cell_type": "markdown",
   "metadata": {},
   "source": [
    "# Learning Rates"
   ]
  },
  {
   "cell_type": "code",
   "execution_count": 19,
   "metadata": {},
   "outputs": [
    {
     "name": "stdout",
     "output_type": "stream",
     "text": [
      "Epoch 1/10\n",
      "500/500 [==============================] - 0s 593us/step - loss: 0.5167 - accuracy: 0.7663\n",
      "Epoch 2/10\n",
      "500/500 [==============================] - 0s 563us/step - loss: 0.4570 - accuracy: 0.7959\n",
      "Epoch 3/10\n",
      "500/500 [==============================] - 0s 615us/step - loss: 0.4412 - accuracy: 0.7995\n",
      "Epoch 4/10\n",
      "500/500 [==============================] - 0s 581us/step - loss: 0.4328 - accuracy: 0.8014\n",
      "Epoch 5/10\n",
      "500/500 [==============================] - 0s 617us/step - loss: 0.4264 - accuracy: 0.8081\n",
      "Epoch 6/10\n",
      "500/500 [==============================] - 0s 869us/step - loss: 0.4205 - accuracy: 0.8124\n",
      "Epoch 7/10\n",
      "500/500 [==============================] - 0s 589us/step - loss: 0.4138 - accuracy: 0.8165\n",
      "Epoch 8/10\n",
      "500/500 [==============================] - 0s 604us/step - loss: 0.4059 - accuracy: 0.8238\n",
      "Epoch 9/10\n",
      "500/500 [==============================] - 0s 609us/step - loss: 0.3980 - accuracy: 0.8319\n",
      "Epoch 10/10\n",
      "500/500 [==============================] - 0s 578us/step - loss: 0.3869 - accuracy: 0.8381\n",
      "Epoch 1/10\n",
      "500/500 [==============================] - 0s 581us/step - loss: 0.4669 - accuracy: 0.7868\n",
      "Epoch 2/10\n",
      "500/500 [==============================] - 0s 564us/step - loss: 0.4156 - accuracy: 0.8190\n",
      "Epoch 3/10\n",
      "500/500 [==============================] - 0s 809us/step - loss: 0.3838 - accuracy: 0.8407\n",
      "Epoch 4/10\n",
      "500/500 [==============================] - 0s 676us/step - loss: 0.3683 - accuracy: 0.8481\n",
      "Epoch 5/10\n",
      "500/500 [==============================] - 0s 653us/step - loss: 0.3680 - accuracy: 0.8499\n",
      "Epoch 6/10\n",
      "500/500 [==============================] - 0s 617us/step - loss: 0.3584 - accuracy: 0.8529\n",
      "Epoch 7/10\n",
      "500/500 [==============================] - 0s 581us/step - loss: 0.3586 - accuracy: 0.8535\n",
      "Epoch 8/10\n",
      "500/500 [==============================] - 0s 583us/step - loss: 0.3552 - accuracy: 0.8531\n",
      "Epoch 9/10\n",
      "500/500 [==============================] - 0s 595us/step - loss: 0.3536 - accuracy: 0.8576\n",
      "Epoch 10/10\n",
      "500/500 [==============================] - 0s 839us/step - loss: 0.3675 - accuracy: 0.8555\n",
      "Epoch 1/10\n",
      "500/500 [==============================] - 1s 629us/step - loss: 0.4610 - accuracy: 0.7919\n",
      "Epoch 2/10\n",
      "500/500 [==============================] - 0s 953us/step - loss: 0.3989 - accuracy: 0.8248\n",
      "Epoch 3/10\n",
      "500/500 [==============================] - 0s 659us/step - loss: 0.3731 - accuracy: 0.8453\n",
      "Epoch 4/10\n",
      "500/500 [==============================] - 0s 660us/step - loss: 0.3570 - accuracy: 0.8530\n",
      "Epoch 5/10\n",
      "500/500 [==============================] - 0s 670us/step - loss: 0.3635 - accuracy: 0.8531\n",
      "Epoch 6/10\n",
      "500/500 [==============================] - 0s 713us/step - loss: 0.3666 - accuracy: 0.8486\n",
      "Epoch 7/10\n",
      "500/500 [==============================] - 0s 612us/step - loss: 0.3545 - accuracy: 0.8506\n",
      "Epoch 8/10\n",
      "500/500 [==============================] - 1s 1ms/step - loss: 0.3555 - accuracy: 0.8584\n",
      "Epoch 9/10\n",
      "500/500 [==============================] - 0s 877us/step - loss: 0.3720 - accuracy: 0.8486\n",
      "Epoch 10/10\n",
      "500/500 [==============================] - 0s 660us/step - loss: 0.3993 - accuracy: 0.8357\n",
      "Epoch 1/10\n",
      "500/500 [==============================] - 1s 661us/step - loss: 1.6219 - accuracy: 0.7964\n",
      "Epoch 2/10\n",
      "500/500 [==============================] - 1s 1ms/step - loss: 3.1640 - accuracy: 0.7949\n",
      "Epoch 3/10\n",
      "500/500 [==============================] - 0s 718us/step - loss: 3.1640 - accuracy: 0.7949\n",
      "Epoch 4/10\n",
      "500/500 [==============================] - 1s 1ms/step - loss: 3.1640 - accuracy: 0.7949\n",
      "Epoch 5/10\n",
      "500/500 [==============================] - 1s 1ms/step - loss: 3.1640 - accuracy: 0.7949\n",
      "Epoch 6/10\n",
      "500/500 [==============================] - 0s 613us/step - loss: 3.1640 - accuracy: 0.7949\n",
      "Epoch 7/10\n",
      "500/500 [==============================] - 0s 728us/step - loss: 3.1640 - accuracy: 0.7949\n",
      "Epoch 8/10\n",
      "500/500 [==============================] - 0s 765us/step - loss: 3.1640 - accuracy: 0.7949\n",
      "Epoch 9/10\n",
      "500/500 [==============================] - 1s 1ms/step - loss: 3.1640 - accuracy: 0.7949\n",
      "Epoch 10/10\n",
      "500/500 [==============================] - 0s 706us/step - loss: 3.1640 - accuracy: 0.7949\n"
     ]
    }
   ],
   "source": [
    "dflist = []\n",
    "\n",
    "learning_rates = [0.01, 0.05, 0.1, 0.5]\n",
    "\n",
    "for lr in learning_rates:\n",
    "\n",
    "    #K.clear_session()\n",
    "\n",
    "    ann = Sequential()\n",
    "\n",
    "# Adding the input layer and the first hidden layer\n",
    "    ann.add(Dense(units=13, activation='relu'))\n",
    "\n",
    "# Adding the second hidden layer\n",
    "    ann.add(Dense(units=6, activation='relu'))\n",
    "\n",
    "# Adding the output layer\n",
    "    ann.add(Dense(units=1, activation='softplus'))\n",
    "    opt = tf.keras.optimizers.SGD(learning_rate=lr)\n",
    "    ann.compile(loss='binary_crossentropy',\n",
    "                  optimizer=opt,\n",
    "                  metrics=['accuracy'])\n",
    "    h = ann.fit(X_train, y_train, batch_size = 32, validation_data = (X_test,y_test), epochs = 10)\n",
    "    \n",
    "    dflist.append(pd.DataFrame(h.history, index=h.epoch))"
   ]
  },
  {
   "cell_type": "code",
   "execution_count": 21,
   "metadata": {},
   "outputs": [],
   "source": [
    "historydf = pd.concat(dflist, axis=1)"
   ]
  },
  {
   "cell_type": "code",
   "execution_count": 22,
   "metadata": {},
   "outputs": [
    {
     "data": {
      "text/html": [
       "<div>\n",
       "<style scoped>\n",
       "    .dataframe tbody tr th:only-of-type {\n",
       "        vertical-align: middle;\n",
       "    }\n",
       "\n",
       "    .dataframe tbody tr th {\n",
       "        vertical-align: top;\n",
       "    }\n",
       "\n",
       "    .dataframe thead th {\n",
       "        text-align: right;\n",
       "    }\n",
       "</style>\n",
       "<table border=\"1\" class=\"dataframe\">\n",
       "  <thead>\n",
       "    <tr style=\"text-align: right;\">\n",
       "      <th></th>\n",
       "      <th>loss</th>\n",
       "      <th>accuracy</th>\n",
       "      <th>loss</th>\n",
       "      <th>accuracy</th>\n",
       "      <th>loss</th>\n",
       "      <th>accuracy</th>\n",
       "      <th>loss</th>\n",
       "      <th>accuracy</th>\n",
       "    </tr>\n",
       "  </thead>\n",
       "  <tbody>\n",
       "    <tr>\n",
       "      <th>0</th>\n",
       "      <td>0.516746</td>\n",
       "      <td>0.766250</td>\n",
       "      <td>0.466930</td>\n",
       "      <td>0.786750</td>\n",
       "      <td>0.461048</td>\n",
       "      <td>0.791875</td>\n",
       "      <td>1.621875</td>\n",
       "      <td>0.796375</td>\n",
       "    </tr>\n",
       "    <tr>\n",
       "      <th>1</th>\n",
       "      <td>0.456956</td>\n",
       "      <td>0.795875</td>\n",
       "      <td>0.415586</td>\n",
       "      <td>0.819000</td>\n",
       "      <td>0.398937</td>\n",
       "      <td>0.824750</td>\n",
       "      <td>3.164042</td>\n",
       "      <td>0.794875</td>\n",
       "    </tr>\n",
       "    <tr>\n",
       "      <th>2</th>\n",
       "      <td>0.441225</td>\n",
       "      <td>0.799500</td>\n",
       "      <td>0.383762</td>\n",
       "      <td>0.840750</td>\n",
       "      <td>0.373119</td>\n",
       "      <td>0.845250</td>\n",
       "      <td>3.164041</td>\n",
       "      <td>0.794875</td>\n",
       "    </tr>\n",
       "    <tr>\n",
       "      <th>3</th>\n",
       "      <td>0.432760</td>\n",
       "      <td>0.801375</td>\n",
       "      <td>0.368273</td>\n",
       "      <td>0.848125</td>\n",
       "      <td>0.357007</td>\n",
       "      <td>0.853000</td>\n",
       "      <td>3.164042</td>\n",
       "      <td>0.794875</td>\n",
       "    </tr>\n",
       "    <tr>\n",
       "      <th>4</th>\n",
       "      <td>0.426359</td>\n",
       "      <td>0.808125</td>\n",
       "      <td>0.368019</td>\n",
       "      <td>0.849875</td>\n",
       "      <td>0.363490</td>\n",
       "      <td>0.853125</td>\n",
       "      <td>3.164043</td>\n",
       "      <td>0.794875</td>\n",
       "    </tr>\n",
       "    <tr>\n",
       "      <th>5</th>\n",
       "      <td>0.420550</td>\n",
       "      <td>0.812375</td>\n",
       "      <td>0.358439</td>\n",
       "      <td>0.852875</td>\n",
       "      <td>0.366553</td>\n",
       "      <td>0.848625</td>\n",
       "      <td>3.164042</td>\n",
       "      <td>0.794875</td>\n",
       "    </tr>\n",
       "    <tr>\n",
       "      <th>6</th>\n",
       "      <td>0.413756</td>\n",
       "      <td>0.816500</td>\n",
       "      <td>0.358552</td>\n",
       "      <td>0.853500</td>\n",
       "      <td>0.354502</td>\n",
       "      <td>0.850625</td>\n",
       "      <td>3.164042</td>\n",
       "      <td>0.794875</td>\n",
       "    </tr>\n",
       "    <tr>\n",
       "      <th>7</th>\n",
       "      <td>0.405854</td>\n",
       "      <td>0.823750</td>\n",
       "      <td>0.355200</td>\n",
       "      <td>0.853125</td>\n",
       "      <td>0.355537</td>\n",
       "      <td>0.858375</td>\n",
       "      <td>3.164041</td>\n",
       "      <td>0.794875</td>\n",
       "    </tr>\n",
       "    <tr>\n",
       "      <th>8</th>\n",
       "      <td>0.398021</td>\n",
       "      <td>0.831875</td>\n",
       "      <td>0.353591</td>\n",
       "      <td>0.857625</td>\n",
       "      <td>0.371986</td>\n",
       "      <td>0.848625</td>\n",
       "      <td>3.164044</td>\n",
       "      <td>0.794875</td>\n",
       "    </tr>\n",
       "    <tr>\n",
       "      <th>9</th>\n",
       "      <td>0.386851</td>\n",
       "      <td>0.838125</td>\n",
       "      <td>0.367461</td>\n",
       "      <td>0.855500</td>\n",
       "      <td>0.399287</td>\n",
       "      <td>0.835750</td>\n",
       "      <td>3.164042</td>\n",
       "      <td>0.794875</td>\n",
       "    </tr>\n",
       "  </tbody>\n",
       "</table>\n",
       "</div>"
      ],
      "text/plain": [
       "       loss  accuracy      loss  accuracy      loss  accuracy      loss  \\\n",
       "0  0.516746  0.766250  0.466930  0.786750  0.461048  0.791875  1.621875   \n",
       "1  0.456956  0.795875  0.415586  0.819000  0.398937  0.824750  3.164042   \n",
       "2  0.441225  0.799500  0.383762  0.840750  0.373119  0.845250  3.164041   \n",
       "3  0.432760  0.801375  0.368273  0.848125  0.357007  0.853000  3.164042   \n",
       "4  0.426359  0.808125  0.368019  0.849875  0.363490  0.853125  3.164043   \n",
       "5  0.420550  0.812375  0.358439  0.852875  0.366553  0.848625  3.164042   \n",
       "6  0.413756  0.816500  0.358552  0.853500  0.354502  0.850625  3.164042   \n",
       "7  0.405854  0.823750  0.355200  0.853125  0.355537  0.858375  3.164041   \n",
       "8  0.398021  0.831875  0.353591  0.857625  0.371986  0.848625  3.164044   \n",
       "9  0.386851  0.838125  0.367461  0.855500  0.399287  0.835750  3.164042   \n",
       "\n",
       "   accuracy  \n",
       "0  0.796375  \n",
       "1  0.794875  \n",
       "2  0.794875  \n",
       "3  0.794875  \n",
       "4  0.794875  \n",
       "5  0.794875  \n",
       "6  0.794875  \n",
       "7  0.794875  \n",
       "8  0.794875  \n",
       "9  0.794875  "
      ]
     },
     "execution_count": 22,
     "metadata": {},
     "output_type": "execute_result"
    }
   ],
   "source": [
    "historydf"
   ]
  },
  {
   "cell_type": "code",
   "execution_count": 25,
   "metadata": {},
   "outputs": [],
   "source": [
    "metrics_reported = dflist[0].columns\n",
    "idx = pd.MultiIndex.from_product([learning_rates, metrics_reported],\n",
    "                                 names=['learning_rate', 'metric'])\n",
    "\n",
    "historydf.columns = idx"
   ]
  },
  {
   "cell_type": "code",
   "execution_count": 26,
   "metadata": {},
   "outputs": [
    {
     "data": {
      "image/png": "[encoded data removed]",
      "text/plain": [
       "<Figure size 864x576 with 2 Axes>"
      ]
     },
     "metadata": {
      "needs_background": "light"
     },
     "output_type": "display_data"
    }
   ],
   "source": [
    "import matplotlib.pyplot as plt \n",
    "plt.figure(figsize=(12,8))\n",
    "\n",
    "ax = plt.subplot(211)\n",
    "historydf.xs('loss', axis=1, level='metric').plot(ylim=(0,1), ax=ax)\n",
    "plt.title(\"Loss\")\n",
    "\n",
    "ax = plt.subplot(212)\n",
    "historydf.xs('accuracy', axis=1, level='metric').plot(ylim=(0,1), ax=ax)\n",
    "plt.title(\"Accuracy\")\n",
    "plt.xlabel(\"Epochs\")\n",
    "\n",
    "plt.tight_layout()"
   ]
  },
  {
   "cell_type": "code",
   "execution_count": 32,
   "metadata": {},
   "outputs": [],
   "source": [
    "y_pred = ann.predict(X_test)"
   ]
  },
  {
   "cell_type": "code",
   "execution_count": 33,
   "metadata": {},
   "outputs": [],
   "source": [
    "y_pred = (y_pred > 0.5)"
   ]
  },
  {
   "cell_type": "code",
   "execution_count": 34,
   "metadata": {},
   "outputs": [
    {
     "data": {
      "text/plain": [
       "array([[False],\n",
       "       [False],\n",
       "       [False],\n",
       "       ...,\n",
       "       [False],\n",
       "       [ True],\n",
       "       [False]])"
      ]
     },
     "execution_count": 34,
     "metadata": {},
     "output_type": "execute_result"
    }
   ],
   "source": [
    "y_pred"
   ]
  },
  {
   "cell_type": "code",
   "execution_count": 35,
   "metadata": {},
   "outputs": [
    {
     "name": "stdout",
     "output_type": "stream",
     "text": [
      "63/63 [==============================] - 0s 581us/step - loss: 0.3421 - accuracy: 0.8720\n"
     ]
    },
    {
     "data": {
      "text/plain": [
       "[0.34211182594299316, 0.871999979019165]"
      ]
     },
     "execution_count": 35,
     "metadata": {},
     "output_type": "execute_result"
    }
   ],
   "source": [
    "ann.evaluate(X_test, y_test)"
   ]
  },
  {
   "cell_type": "code",
   "execution_count": 36,
   "metadata": {},
   "outputs": [],
   "source": [
    "from sklearn.metrics import confusion_matrix\n",
    "cm = confusion_matrix(y_test, y_pred)"
   ]
  },
  {
   "cell_type": "code",
   "execution_count": 37,
   "metadata": {},
   "outputs": [
    {
     "data": {
      "text/plain": [
       "array([[1542,   62],\n",
       "       [ 194,  202]], dtype=int64)"
      ]
     },
     "execution_count": 37,
     "metadata": {},
     "output_type": "execute_result"
    }
   ],
   "source": [
    "cm"
   ]
  },
  {
   "cell_type": "code",
   "execution_count": 38,
   "metadata": {},
   "outputs": [
    {
     "data": {
      "text/plain": [
       "RandomForestClassifier(n_estimators=1000)"
      ]
     },
     "execution_count": 38,
     "metadata": {},
     "output_type": "execute_result"
    }
   ],
   "source": [
    "from sklearn.ensemble import RandomForestClassifier\n",
    "clf = RandomForestClassifier(n_estimators=1000)\n",
    "clf.fit(X_train,y_train)"
   ]
  },
  {
   "cell_type": "code",
   "execution_count": 39,
   "metadata": {},
   "outputs": [
    {
     "data": {
      "text/plain": [
       "0.874"
      ]
     },
     "execution_count": 39,
     "metadata": {},
     "output_type": "execute_result"
    }
   ],
   "source": [
    "clf.score(X_test,y_test)"
   ]
  },
  {
   "cell_type": "code",
   "execution_count": 10,
   "metadata": {},
   "outputs": [],
   "source": [
    "from sklearn.decomposition import PCA\n",
    "pca = PCA(n_components=300)\n",
    "X = pca.fit_transform(X)\n"
   ]
  },
  {
   "cell_type": "code",
   "execution_count": 12,
   "metadata": {},
   "outputs": [
    {
     "data": {
      "text/plain": [
       "RandomForestClassifier(n_estimators=1000)"
      ]
     },
     "execution_count": 12,
     "metadata": {},
     "output_type": "execute_result"
    }
   ],
   "source": [
    "from sklearn.ensemble import RandomForestClassifier\n",
    "clf = RandomForestClassifier(n_estimators=1000)\n",
    "clf.fit(X_train,y_train)"
   ]
  },
  {
   "cell_type": "code",
   "execution_count": 13,
   "metadata": {},
   "outputs": [
    {
     "data": {
      "text/plain": [
       "(60000, 300)"
      ]
     },
     "execution_count": 13,
     "metadata": {},
     "output_type": "execute_result"
    }
   ],
   "source": [
    "X.shape"
   ]
  },
  {
   "cell_type": "code",
   "execution_count": 14,
   "metadata": {},
   "outputs": [
    {
     "data": {
      "text/plain": [
       "0.9428333333333333"
      ]
     },
     "execution_count": 14,
     "metadata": {},
     "output_type": "execute_result"
    }
   ],
   "source": [
    "clf.score(X_test,y_test)"
   ]
  },
  {
   "cell_type": "code",
   "execution_count": null,
   "metadata": {},
   "outputs": [],
   "source": []
  }
 ],
 "metadata": {
  "kernelspec": {
   "display_name": "Python 3 (ipykernel)",
   "language": "python",
   "name": "python3"
  },
  "language_info": {
   "codemirror_mode": {
    "name": "ipython",
    "version": 3
   },
   "file_extension": ".py",
   "mimetype": "text/x-python",
   "name": "python",
   "nbconvert_exporter": "python",
   "pygments_lexer": "ipython3",
   "version": "3.9.7"
  }
 },
 "nbformat": 4,
 "nbformat_minor": 4
}
